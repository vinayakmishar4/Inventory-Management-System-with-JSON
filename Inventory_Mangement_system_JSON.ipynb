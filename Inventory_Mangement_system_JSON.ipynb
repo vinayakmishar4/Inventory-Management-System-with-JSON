{
 "cells": [
  {
   "cell_type": "markdown",
   "id": "bf7714ba-6e6d-4c02-98a9-f24a95e7fd73",
   "metadata": {},
   "source": [
    "# Inventory_Mangement_system_JSON\r\n"
   ]
  },
  {
   "cell_type": "code",
   "execution_count": 22,
   "id": "e9ff4933-b581-4e5f-8978-072ca4436c3f",
   "metadata": {},
   "outputs": [
    {
     "name": "stdin",
     "output_type": "stream",
     "text": [
      "Enter the Prdouct ID 1\n",
      "Enter the Product Name cake\n",
      "Enter the Product price 2000\n",
      "Enter the Product Quantity 1000\n"
     ]
    }
   ],
   "source": [
    "# add value in json file\n",
    "import json\n",
    "import time\n",
    "d={}\n",
    "fd=open('Record.json','w')\n",
    "pd=input(\"Enter the Prdouct ID\")\n",
    "pn=input(\"Enter the Product Name\")\n",
    "pp=input(\"Enter the Product price\")\n",
    "pq=input(\"Enter the Product Quantity\")\n",
    "d[pd]={\"Name\" : pn,\"Price\" : pp,\"Quantity\" : pq}\n",
    "json.dump(d,fd,indent=0)\n",
    "fd.close()"
   ]
  },
  {
   "cell_type": "code",
   "execution_count": 23,
   "id": "48e5c86f-1e7f-4503-b4da-e897824a9ae5",
   "metadata": {},
   "outputs": [
    {
     "name": "stdout",
     "output_type": "stream",
     "text": [
      "{'1': {'Name': 'cake', 'Price': '2000', 'Quantity': '1000'}}\n"
     ]
    }
   ],
   "source": [
    "# read the json file \n",
    "fd=open('Record.json','r')\n",
    "data=json.load(fd)\n",
    "print(data)"
   ]
  },
  {
   "cell_type": "code",
   "execution_count": 30,
   "id": "02cb9f69-f51e-4ec2-8754-fe0df3ee5515",
   "metadata": {},
   "outputs": [
    {
     "name": "stdout",
     "output_type": "stream",
     "text": [
      "1 cake 2000 cake\n",
      "---------------------------------------------\n",
      "\n"
     ]
    },
    {
     "name": "stdin",
     "output_type": "stream",
     "text": [
      "Enter product ID :  1\n",
      "Enter Quantity   :  80\n",
      "Your Name tanu\n",
      "Your Phone Number 997799777\n",
      "Your Email address tanu@gamil.com\n"
     ]
    },
    {
     "name": "stdout",
     "output_type": "stream",
     "text": [
      "---------------------------------------------\n",
      "\n",
      "Name      :  cake\n",
      "Price (Rs):  2000\n",
      "Quantity  :  80\n",
      "---------------------------------------------\n",
      "Billing   :  160000 Rs\n",
      "---------------------------------------------\n",
      "\n",
      "---------------------------------------------\n",
      "  Thanks for your order, Inventory Updated!  \n",
      "---------------------------------------------\n"
     ]
    }
   ],
   "source": [
    "# print(\"--------------------MENU---------------------\")\n",
    "for key in data:\n",
    "    print(key, data[key]['Name'], data[key]['Price'], data[key]['Name'])\n",
    "print(\"---------------------------------------------\")\n",
    "print('')\n",
    "\n",
    "ui_pr = int(input(\"Enter product ID : \"))\n",
    "ui_qn = int(input(\"Enter Quantity   : \"))\n",
    "name=str(input(\"Your Name\"))\n",
    "phone=int(input(\"Your Phone Number\"))\n",
    "email=str(input(\"Your Email address\"))\n",
    "print(\"---------------------------------------------\")\n",
    "print('')\n",
    "df=open('Billing_Record.txt','a')\n",
    "if int(data[key]['Quantity']) >= ui_qn :\n",
    "    print(\"Name      : \", data[key][\"Name\"])\n",
    "    print(\"Price (Rs): \", data[key][\"Price\"])\n",
    "    print(\"Quantity  : \", ui_qn)\n",
    "    print(\"---------------------------------------------\")\n",
    "    print(\"Billing   : \", ui_qn * int(data[key][\"Price\"]), \"Rs\")\n",
    "    print(\"---------------------------------------------\")\n",
    "    data[key]['Quantity'] = int(data[key]['Quantity']) - ui_qn\n",
    "    sale=name+\",\"+str(phone)+\",\"+email+\",\"+str(ui_pr)+\",\"+str(ui_qn)+\",\"+data[key][\"Name\"]+\",\"+str(ui_qn * int(data[key][\"Price\"]))+\",\"+time.ctime()\n",
    "    df.write(sale)\n",
    "else :\n",
    "    print('Sorry for your product ',data[key]['Name'])\n",
    "    print('but we have this much stock ',data[key]['Quantity'])\n",
    "    char=input(\"Press Y OR N\")\n",
    "    if(char=='Y' or ch=='y'):\n",
    "        print(\"Name      : \", data[key][\"Name\"])\n",
    "        print(\"Price (Rs): \", data[key][\"Price\"])\n",
    "        print(\"Quantity  : \", ui_qn)\n",
    "        print(\"---------------------------------------------\")\n",
    "        print(\"Billing   : \", ui_qn * int(data[key][\"Price\"]), \"Rs\")\n",
    "        print(\"---------------------------------------------\")\n",
    "        data[key]['Quantity'] = 0\n",
    "        sale=name+\",\"+str(phone)+\",\"+email+\",\"+str(ui_pr)+\",\"+str(ui_qn)+\",\"+data[key][\"Name\"]+\",\"+str(ui_qn * int(data[key][\"Price\"]))+\",\"+time.ctime()\n",
    "        df.write(sale)\n",
    "    else:\n",
    "        print('Thank you for shopping')\n",
    "\n",
    "df.close()\n",
    "\n",
    "print('')\n",
    "print(\"---------------------------------------------\")\n",
    "print(\"  Thanks for your order, Inventory Updated!  \")\n",
    "print(\"---------------------------------------------\")\n",
    "fd=open('Record.json','w')\n",
    "json.dump(data,fd,indent=0)\n",
    "fd.close()"
   ]
  },
  {
   "cell_type": "code",
   "execution_count": 31,
   "id": "98f65db9-e053-47cc-926a-70af2cf18ae5",
   "metadata": {},
   "outputs": [
    {
     "name": "stdout",
     "output_type": "stream",
     "text": [
      "{'1': {'Name': 'cake', 'Price': '2000', 'Quantity': 800}}\n"
     ]
    }
   ],
   "source": [
    "# read the json file \n",
    "fd=open('Record.json','r')\n",
    "data=json.load(fd)\n",
    "print(data)"
   ]
  },
  {
   "cell_type": "code",
   "execution_count": null,
   "id": "52c19275-71cd-4450-b249-3674020b7503",
   "metadata": {},
   "outputs": [],
   "source": []
  }
 ],
 "metadata": {
  "kernelspec": {
   "display_name": "Python 3 (ipykernel)",
   "language": "python",
   "name": "python3"
  },
  "language_info": {
   "codemirror_mode": {
    "name": "ipython",
    "version": 3
   },
   "file_extension": ".py",
   "mimetype": "text/x-python",
   "name": "python",
   "nbconvert_exporter": "python",
   "pygments_lexer": "ipython3",
   "version": "3.11.7"
  }
 },
 "nbformat": 4,
 "nbformat_minor": 5
}
